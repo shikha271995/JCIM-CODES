{
  "nbformat": 4,
  "nbformat_minor": 0,
  "metadata": {
    "colab": {
      "provenance": []
    },
    "kernelspec": {
      "name": "python3",
      "display_name": "Python 3"
    },
    "language_info": {
      "name": "python"
    }
  },
  "cells": [
    {
      "cell_type": "markdown",
      "source": [
        "## Steps involved:\n",
        "1. read pdf file\n",
        "2. convert each page of pdf file to text file format\n",
        "3. convert each text file to pandas dataframe\n",
        "4. combine all pandas dataframe into one"
      ],
      "metadata": {
        "id": "RIieF3ApvWNU"
      }
    },
    {
      "cell_type": "code",
      "execution_count": 1,
      "metadata": {
        "colab": {
          "base_uri": "https://localhost:8080/"
        },
        "id": "KjjRvHDymb9q",
        "outputId": "3d0d2837-4613-42cc-be53-04183ee9989e"
      },
      "outputs": [
        {
          "output_type": "stream",
          "name": "stdout",
          "text": [
            "Requirement already satisfied: pypdf in /usr/local/lib/python3.10/dist-packages (3.14.0)\n",
            "Requirement already satisfied: PyPDF2 in /usr/local/lib/python3.10/dist-packages (3.0.1)\n",
            "Requirement already satisfied: tabula-py in /usr/local/lib/python3.10/dist-packages (2.7.0)\n",
            "Requirement already satisfied: pandas>=0.25.3 in /usr/local/lib/python3.10/dist-packages (from tabula-py) (1.5.3)\n",
            "Requirement already satisfied: numpy in /usr/local/lib/python3.10/dist-packages (from tabula-py) (1.22.4)\n",
            "Requirement already satisfied: distro in /usr/lib/python3/dist-packages (from tabula-py) (1.7.0)\n",
            "Requirement already satisfied: python-dateutil>=2.8.1 in /usr/local/lib/python3.10/dist-packages (from pandas>=0.25.3->tabula-py) (2.8.2)\n",
            "Requirement already satisfied: pytz>=2020.1 in /usr/local/lib/python3.10/dist-packages (from pandas>=0.25.3->tabula-py) (2022.7.1)\n",
            "Requirement already satisfied: six>=1.5 in /usr/local/lib/python3.10/dist-packages (from python-dateutil>=2.8.1->pandas>=0.25.3->tabula-py) (1.16.0)\n",
            "Requirement already satisfied: pandas in /usr/local/lib/python3.10/dist-packages (1.5.3)\n",
            "Requirement already satisfied: python-dateutil>=2.8.1 in /usr/local/lib/python3.10/dist-packages (from pandas) (2.8.2)\n",
            "Requirement already satisfied: pytz>=2020.1 in /usr/local/lib/python3.10/dist-packages (from pandas) (2022.7.1)\n",
            "Requirement already satisfied: numpy>=1.21.0 in /usr/local/lib/python3.10/dist-packages (from pandas) (1.22.4)\n",
            "Requirement already satisfied: six>=1.5 in /usr/local/lib/python3.10/dist-packages (from python-dateutil>=2.8.1->pandas) (1.16.0)\n"
          ]
        }
      ],
      "source": [
        "!pip install pypdf PyPDF2\n",
        "!pip install tabula-py\n",
        "!pip install pandas"
      ]
    },
    {
      "cell_type": "code",
      "source": [
        "from PyPDF2 import PdfReader\n",
        "reader = PdfReader(\"support vector machine algorithim results.pdf\") # pdf file path\n",
        "number_of_pages = len(reader.pages)"
      ],
      "metadata": {
        "id": "7YjABKxPmdWX"
      },
      "execution_count": 2,
      "outputs": []
    },
    {
      "cell_type": "code",
      "source": [
        "print(\"number_of_pages:\", number_of_pages)"
      ],
      "metadata": {
        "colab": {
          "base_uri": "https://localhost:8080/"
        },
        "id": "UBdnZ8LCmo1_",
        "outputId": "322da9c0-34fc-4c83-a9bb-c1f2b4fcb9f6"
      },
      "execution_count": 3,
      "outputs": [
        {
          "output_type": "stream",
          "name": "stdout",
          "text": [
            "number_of_pages: 3\n"
          ]
        }
      ]
    },
    {
      "cell_type": "code",
      "source": [
        "import os.path\n",
        "for i in range(number_of_pages):\n",
        "  page = reader.pages[i]\n",
        "  text = page.extract_text()\n",
        "  print(\"text:\", text)\n",
        "  filename = 'textdata_'+str(i)+'.txt'\n",
        "  directory = './pdf_to_txt/'\n",
        "  file_path = os.path.join(directory, filename)\n",
        "  if not os.path.isdir(directory):\n",
        "    os.mkdir(directory)\n",
        "  file1 = open(file_path, \"a\")\n",
        "  file1.writelines(text)"
      ],
      "metadata": {
        "colab": {
          "base_uri": "https://localhost:8080/"
        },
        "id": "aA9KBzqXmxz6",
        "outputId": "69549b4f-9bd0-418c-fe1d-45dce682d56b"
      },
      "execution_count": 5,
      "outputs": [
        {
          "output_type": "stream",
          "name": "stdout",
          "text": [
            "text: Predict   0         1         \n",
            "Actual\n",
            "0         132       40        \n",
            "1         19        774       \n",
            "Overall Statistics : \n",
            "95% CI                                                            (0.92374,0.95398)\n",
            "ACC Macro                                                         0.93886\n",
            "ARI                                                               0.71449\n",
            "AUNP                                                              0.87174\n",
            "AUNU                                                              0.87174\n",
            "Bangdiwala B                                                      0.91813\n",
            "Bennett S                                                         0.87772\n",
            "CBA                                                               0.85915\n",
            "CSI                                                               0.78426\n",
            "Chi-Squared                                                       591.92783\n",
            "Chi-Squared DF                                                    1\n",
            "Conditional Entropy                                               0.27352\n",
            "Cramer V                                                          0.7832\n",
            "Cross Entropy                                                     0.6787\n",
            "F1 Macro                                                          0.89031\n",
            "F1 Micro                                                          0.93886\n",
            "FNR Macro                                                         0.12826\n",
            "FNR Micro                                                         0.06114\n",
            "FPR Macro                                                         0.12826\n",
            "FPR Micro                                                         0.06114\n",
            "Gwet AC1                                                          0.91524\n",
            "Hamming Loss                                                      0.06114\n",
            "Joint Entropy                                                     0.94972\n",
            "KL Divergence                                                     0.0025\n",
            "Kappa                                                             0.78081\n",
            "Kappa 95% CI                                                      (0.72662,0.835)\n",
            "Kappa No Prevalence                                               0.87772\n",
            "Kappa Standard Error                                              0.02765\n",
            "Kappa Unbiased                                                    0.78062\n",
            "Krippendorff Alpha                                                0.78074\n",
            "Lambda A                                                          0.65698\n",
            "Lambda B                                                          0.60927\n",
            "Mutual Information                                                0.3523\n",
            "NIR                                                               0.82176\n",
            "Overall ACC                                                       0.93886\n",
            "Overall CEN                                                       0.27615\n",
            "Overall J                                                         (1.62027,0.81014)\n",
            "Overall MCC                                                       0.7832\n",
            "Overall MCEN                                                      0.224\n",
            "Overall RACC                                                      0.72107\n",
            "Overall RACCU                                                     0.7213\n",
            "P-Value                                                           0.0\n",
            "PPV Macro                                                         0.91252\n",
            "PPV Micro                                                         0.93886\n",
            "Pearson C                                                         0.6166\n",
            "Phi-Squared                                                       0.6134\n",
            "RCI                                                               0.52099\n",
            "text: RR                                                                482.5\n",
            "Reference Entropy                                                 0.67621\n",
            "Response Entropy                                                  0.62581\n",
            "SOA1(Landis & Koch)                                               Substantial\n",
            "SOA2(Fleiss)                                                      Excellent\n",
            "SOA3(Altman)                                                      Good\n",
            "SOA4(Cicchetti)                                                   Excellent\n",
            "SOA5(Cramer)                                                      Strong\n",
            "SOA6(Matthews)                                                    Strong\n",
            "SOA7(Lambda A)                                                    Strong\n",
            "SOA8(Lambda B)                                                    Strong\n",
            "SOA9(Krippendorff Alpha)                                          Tentative\n",
            "SOA10(Pearson C)                                                  Strong\n",
            "Scott PI                                                          0.78062\n",
            "Standard Error                                                    0.00771\n",
            "TNR Macro                                                         0.87174\n",
            "TNR Micro                                                         0.93886\n",
            "TPR Macro                                                         0.87174\n",
            "TPR Micro                                                         0.93886\n",
            "Zero-one Loss                                                     59\n",
            "Class Statistics :\n",
            "Classes                                                           0             1             \n",
            "ACC(Accuracy)                                                     0.93886       0.93886       \n",
            "AGF(Adjusted F-score)                                             0.86711       0.90872       \n",
            "AGM(Adjusted geometric mean)                                      0.91535       0.85065       \n",
            "AM(Difference between automatic and manual classification)        -21           21            \n",
            "AUC(Area under the ROC curve)                                     0.87174       0.87174       \n",
            "AUCI(AUC value interpretation)                                    Very Good     Very Good     \n",
            "AUPR(Area under the PR curve)                                     0.82081       0.96345       \n",
            "BB(Braun-Blanquet similarity)                                     0.76744       0.95086       \n",
            "BCD(Bray-Curtis dissimilarity)                                    0.01088       0.01088       \n",
            "BM(Informedness or bookmaker informedness)                        0.74348       0.74348       \n",
            "CEN(Confusion entropy)                                            0.61362       0.20832       \n",
            "DOR(Diagnostic odds ratio)                                        134.43158     134.43158     \n",
            "DP(Discriminant power)                                            1.1735        1.1735        \n",
            "DPI(Discriminant power interpretation)                            Limited       Limited       \n",
            "ERR(Error rate)                                                   0.06114       0.06114       \n",
            "F0.5(F0.5 score)                                                  0.85052       0.95579       \n",
            "F1(F1 score - harmonic mean of precision and sensitivity)         0.81734       0.96329       \n",
            "F2(F2 score)                                                      0.78665       0.9709        \n",
            "FDR(False discovery rate)                                         0.12583       0.04914       \n",
            "FN(False negative/miss/type 2 error)                              40            19            \n",
            "FNR(Miss rate or false negative rate)                             0.23256       0.02396       \n",
            "FOR(False omission rate)                                          0.04914       0.12583       \n",
            "FP(False positive/type 1 error/false alarm)                       19            40            \n",
            "FPR(Fall-out or false positive rate)                              0.02396       0.23256       \n",
            "G(G-measure geometric mean of precision and sensitivity)          0.81907       0.96337       \n",
            "GI(Gini index)                                                    0.74348       0.74348       \n",
            "GM(G-mean geometric mean of specificity and sensitivity)          0.86548       0.86548       \n",
            "HD(Hamming distance)                                              59            59            \n",
            "IBA(Index of balanced accuracy)                                   0.5928        0.90531       \n",
            "ICSI(Individual classification success index)                     0.64161       0.9269        \n",
            "IS(Information score)                                             2.29411       0.21051       \n",
            "J(Jaccard index)                                                  0.6911        0.92917       \n",
            "LS(Lift score)                                                    4.90451       1.1571        \n",
            "MCC(Matthews correlation coefficient)                             0.7832        0.7832        \n",
            "MCCI(Matthews correlation coefficient interpretation)             Strong        Strong        \n",
            "MCEN(Modified confusion entropy)                                  0.80356       0.33474       \n",
            "text: MK(Markedness)                                                    0.82503       0.82503       \n",
            "N(Condition negative)                                             793           172           \n",
            "NLR(Negative likelihood ratio)                                    0.23827       0.03122       \n",
            "NLRI(Negative likelihood ratio interpretation)                    Poor          Good          \n",
            "NPV(Negative predictive value)                                    0.95086       0.87417       \n",
            "OC(Overlap coefficient)                                           0.87417       0.97604       \n",
            "OOC(Otsuka-Ochiai coefficient)                                    0.81907       0.96337       \n",
            "OP(Optimized precision)                                           0.81922       0.81922       \n",
            "P(Condition positive or support)                                  172           793           \n",
            "PLR(Positive likelihood ratio)                                    32.0306       4.19697       \n",
            "PLRI(Positive likelihood ratio interpretation)                    Good          Poor          \n",
            "POP(Population)                                                   965           965           \n",
            "PPV(Precision or positive predictive value)                       0.87417       0.95086       \n",
            "PRE(Prevalence)                                                   0.17824       0.82176       \n",
            "Q(Yule Q - coefficient of colligation)                            0.98523       0.98523       \n",
            "QI(Yule Q interpretation)                                         Strong        Strong        \n",
            "RACC(Random accuracy)                                             0.02789       0.69318       \n",
            "RACCU(Random accuracy unbiased)                                   0.02801       0.69329       \n",
            "TN(True negative/correct rejection)                               774           132           \n",
            "TNR(Specificity or true negative rate)                            0.97604       0.76744       \n",
            "TON(Test outcome negative)                                        814           151           \n",
            "TOP(Test outcome positive)                                        151           814           \n",
            "TP(True positive/hit)                                             132           774           \n",
            "TPR(Sensitivity, recall, hit rate, or true positive rate)         0.76744       0.97604       \n",
            "Y(Youden index)                                                   0.74348       0.74348       \n",
            "dInd(Distance index)                                              0.23379       0.23379       \n",
            "sInd(Similarity index)                                            0.83469       0.83469       \n"
          ]
        }
      ]
    },
    {
      "cell_type": "code",
      "source": [
        "###pdf page 1\n",
        "import re\n",
        "import pandas as pd\n",
        "import itertools\n",
        "records = []\n",
        "record = None\n",
        "for key, subiter in itertools.groupby(open('/content/pdf_to_txt/textdata_0.txt'),\n",
        "        lambda line: line.startswith(\"Predict \")): #search string\n",
        "    if key:\n",
        "        item_id = next(subiter).split()[1]\n",
        "        record = {\"item_id\":item_id}\n",
        "    else:\n",
        "        if record:\n",
        "            record[\"values\"] = [line.strip() for line in subiter]\n",
        "            records.append(record)\n",
        "\n",
        "mykey = ['values']\n",
        "out = [i[x] for i in records for x in mykey]\n",
        "flat_list = [item for sublist in out for item in sublist]\n",
        "output = [re.sub('\\s+  ',', ',i) for i in flat_list]\n",
        "df = pd.DataFrame(output, columns=['points'])\n",
        "df[['Category', 'B']] = df['points'].str.split(',', 1, expand=True)\n",
        "df[['0', '1']] = df['B'].str.split(',', 1, expand=True)\n",
        "df = df[['Category', '0', '1']]\n",
        "print(\"df:\", df)\n",
        "# df.to_csv(\"test_1.csv\")"
      ],
      "metadata": {
        "colab": {
          "base_uri": "https://localhost:8080/"
        },
        "id": "2LPM2OsUm1qP",
        "outputId": "96e1666a-7371-4715-9ff3-1901db3b35be"
      },
      "execution_count": 6,
      "outputs": [
        {
          "output_type": "stream",
          "name": "stdout",
          "text": [
            "df:                  Category          0         1\n",
            "0                  Actual       None      None\n",
            "1                       0        132        40\n",
            "2                       1         19       774\n",
            "3    Overall Statistics :       None      None\n",
            "4                  95% CI   (0.92374  0.95398)\n",
            "..                    ...        ...       ...\n",
            "97              PPV Macro    0.91252      None\n",
            "98              PPV Micro    0.93886      None\n",
            "99              Pearson C     0.6166      None\n",
            "100           Phi-Squared     0.6134      None\n",
            "101                   RCI    0.52099      None\n",
            "\n",
            "[102 rows x 3 columns]\n"
          ]
        },
        {
          "output_type": "stream",
          "name": "stderr",
          "text": [
            "<ipython-input-6-ee7600dc4ccc>:25: FutureWarning: In a future version of pandas all arguments of StringMethods.split except for the argument 'pat' will be keyword-only.\n",
            "  df[['Category', 'B']] = df['points'].str.split(',', 1, expand=True)\n",
            "<ipython-input-6-ee7600dc4ccc>:26: FutureWarning: In a future version of pandas all arguments of StringMethods.split except for the argument 'pat' will be keyword-only.\n",
            "  df[['0', '1']] = df['B'].str.split(',', 1, expand=True)\n"
          ]
        }
      ]
    },
    {
      "cell_type": "code",
      "source": [
        "##pdf page 2\n",
        "import re\n",
        "import pandas as pd\n",
        "import itertools\n",
        "records = []\n",
        "record = None\n",
        "for key, subiter in itertools.groupby(open('/content/pdf_to_txt/textdata_1.txt'),\n",
        "        lambda line: line.startswith(\"RR \")):\n",
        "    if key:\n",
        "        item_id = next(subiter).split()[1]\n",
        "        record = {\"item_id\":item_id}\n",
        "    else:\n",
        "        if record:\n",
        "            record[\"values\"] = [line.strip() for line in subiter]\n",
        "            records.append(record)\n",
        "\n",
        "mykey = ['values']\n",
        "out = [i[x] for i in records for x in mykey]\n",
        "flat_list = [item for sublist in out for item in sublist]\n",
        "output = [re.sub('\\s+  ',', ',i) for i in flat_list]\n",
        "df1 = pd.DataFrame(output, columns=['points'])\n",
        "df1[['Category', 'B']] = df1['points'].str.split(',', 1, expand=True)\n",
        "df1[['0', '1']] = df1['B'].str.split(',', 1, expand=True)\n",
        "df1 = df1[['Category', '0', '1']]\n",
        "print(\"df1:\", df1)\n",
        "# df1.to_csv(\"test_2.csv\")"
      ],
      "metadata": {
        "colab": {
          "base_uri": "https://localhost:8080/"
        },
        "id": "MQ9iEJmenoQZ",
        "outputId": "da3e6c07-196e-4aac-be8a-eece7c99fcec"
      },
      "execution_count": 7,
      "outputs": [
        {
          "output_type": "stream",
          "name": "stdout",
          "text": [
            "df1:                                                 points\n",
            "0                           Reference Entropy, 0.67621\n",
            "1                            Response Entropy, 0.62581\n",
            "2                     SOA1(Landis & Koch), Substantial\n",
            "3                              SOA2(Fleiss), Excellent\n",
            "4                                   SOA3(Altman), Good\n",
            "..                                                 ...\n",
            "109                  J(Jaccard index), 0.6911, 0.92917\n",
            "110                    LS(Lift score), 4.90451, 1.1571\n",
            "111  MCC(Matthews correlation coefficient), 0.7832,...\n",
            "112  MCCI(Matthews correlation coefficient interpre...\n",
            "113  MCEN(Modified confusion entropy), 0.80356, 0.3...\n",
            "\n",
            "[114 rows x 1 columns]\n",
            "df1:                                               Category             0         1\n",
            "0                                    Reference Entropy       0.67621      None\n",
            "1                                     Response Entropy       0.62581      None\n",
            "2                                  SOA1(Landis & Koch)   Substantial      None\n",
            "3                                         SOA2(Fleiss)     Excellent      None\n",
            "4                                         SOA3(Altman)          Good      None\n",
            "..                                                 ...           ...       ...\n",
            "109                                   J(Jaccard index)        0.6911   0.92917\n",
            "110                                     LS(Lift score)       4.90451    1.1571\n",
            "111              MCC(Matthews correlation coefficient)        0.7832    0.7832\n",
            "112  MCCI(Matthews correlation coefficient interpre...        Strong    Strong\n",
            "113                   MCEN(Modified confusion entropy)       0.80356   0.33474\n",
            "\n",
            "[114 rows x 3 columns]\n"
          ]
        },
        {
          "output_type": "stream",
          "name": "stderr",
          "text": [
            "<ipython-input-7-60de65662769>:24: FutureWarning: In a future version of pandas all arguments of StringMethods.split except for the argument 'pat' will be keyword-only.\n",
            "  df1[['Category', 'B']] = df1['points'].str.split(',', 1, expand=True)\n",
            "<ipython-input-7-60de65662769>:25: FutureWarning: In a future version of pandas all arguments of StringMethods.split except for the argument 'pat' will be keyword-only.\n",
            "  df1[['0', '1']] = df1['B'].str.split(',', 1, expand=True)\n"
          ]
        }
      ]
    },
    {
      "cell_type": "code",
      "source": [
        "##pdf page 3\n",
        "import re\n",
        "import pandas as pd\n",
        "import itertools\n",
        "records = []\n",
        "record = None\n",
        "for key, subiter in itertools.groupby(open('/content/pdf_to_txt/textdata_2.txt'),\n",
        "        lambda line: line.startswith(\"MK(Markedness)  \")):\n",
        "    if key:\n",
        "        item_id = next(subiter).split()[1]\n",
        "        record = {\"item_id\":item_id}\n",
        "    else:\n",
        "        if record:\n",
        "            record[\"values\"] = [line.strip() for line in subiter]\n",
        "            records.append(record)\n",
        "\n",
        "mykey = ['values']\n",
        "out = [i[x] for i in records for x in mykey]\n",
        "flat_list = [item for sublist in out for item in sublist]\n",
        "output = [re.sub('\\s+  ',', ',i) for i in flat_list]\n",
        "df2 = pd.DataFrame(output, columns=['points'])\n",
        "print(\"df2:\", df2)\n",
        "df2 = pd.DataFrame(output, columns=['points'])\n",
        "df2[['Category', 'B']] = df2['points'].str.split(',', 1, expand=True)\n",
        "df2[['0', '1']] = df2['B'].str.split(',', 1, expand=True)\n",
        "df2 = df2[['Category', '0', '1']]\n",
        "print(\"df2:\", df2)\n",
        "df2.to_csv(\"test_3.csv\")"
      ],
      "metadata": {
        "colab": {
          "base_uri": "https://localhost:8080/"
        },
        "id": "ABZpFrpYnm74",
        "outputId": "cb93fed1-6ba6-4d2a-a44c-cb4dcf55860a"
      },
      "execution_count": 8,
      "outputs": [
        {
          "output_type": "stream",
          "name": "stdout",
          "text": [
            "df2:                                                points\n",
            "0                     N(Condition negative), 793, 172\n",
            "1    NLR(Negative likelihood ratio), 0.23827, 0.03122\n",
            "2   NLRI(Negative likelihood ratio interpretation)...\n",
            "3    NPV(Negative predictive value), 0.95086, 0.87417\n",
            "4           OC(Overlap coefficient), 0.87417, 0.97604\n",
            "5    OOC(Otsuka-Ochiai coefficient), 0.81907, 0.96337\n",
            "6           OP(Optimized precision), 0.81922, 0.81922\n",
            "7          P(Condition positive or support), 172, 793\n",
            "8    PLR(Positive likelihood ratio), 32.0306, 4.19697\n",
            "9   PLRI(Positive likelihood ratio interpretation)...\n",
            "10                          POP(Population), 965, 965\n",
            "11  PPV(Precision or positive predictive value), 0...\n",
            "12                  PRE(Prevalence), 0.17824, 0.82176\n",
            "13  Q(Yule Q - coefficient of colligation), 0.9852...\n",
            "14          QI(Yule Q interpretation), Strong, Strong\n",
            "15            RACC(Random accuracy), 0.02789, 0.69318\n",
            "16  RACCU(Random accuracy unbiased), 0.02801, 0.69329\n",
            "17      TN(True negative/correct rejection), 774, 132\n",
            "18  TNR(Specificity or true negative rate), 0.9760...\n",
            "19               TON(Test outcome negative), 814, 151\n",
            "20               TOP(Test outcome positive), 151, 814\n",
            "21                    TP(True positive/hit), 132, 774\n",
            "22  TPR(Sensitivity, recall, hit rate, or true pos...\n",
            "23                  Y(Youden index), 0.74348, 0.74348\n",
            "24             dInd(Distance index), 0.23379, 0.23379\n",
            "25           sInd(Similarity index), 0.83469, 0.83469\n",
            "df2:                                                points\n",
            "0                     N(Condition negative), 793, 172\n",
            "1    NLR(Negative likelihood ratio), 0.23827, 0.03122\n",
            "2   NLRI(Negative likelihood ratio interpretation)...\n",
            "3    NPV(Negative predictive value), 0.95086, 0.87417\n",
            "4           OC(Overlap coefficient), 0.87417, 0.97604\n",
            "5    OOC(Otsuka-Ochiai coefficient), 0.81907, 0.96337\n",
            "6           OP(Optimized precision), 0.81922, 0.81922\n",
            "7          P(Condition positive or support), 172, 793\n",
            "8    PLR(Positive likelihood ratio), 32.0306, 4.19697\n",
            "9   PLRI(Positive likelihood ratio interpretation)...\n",
            "10                          POP(Population), 965, 965\n",
            "11  PPV(Precision or positive predictive value), 0...\n",
            "12                  PRE(Prevalence), 0.17824, 0.82176\n",
            "13  Q(Yule Q - coefficient of colligation), 0.9852...\n",
            "14          QI(Yule Q interpretation), Strong, Strong\n",
            "15            RACC(Random accuracy), 0.02789, 0.69318\n",
            "16  RACCU(Random accuracy unbiased), 0.02801, 0.69329\n",
            "17      TN(True negative/correct rejection), 774, 132\n",
            "18  TNR(Specificity or true negative rate), 0.9760...\n",
            "19               TON(Test outcome negative), 814, 151\n",
            "20               TOP(Test outcome positive), 151, 814\n",
            "21                    TP(True positive/hit), 132, 774\n",
            "22  TPR(Sensitivity, recall, hit rate, or true pos...\n",
            "23                  Y(Youden index), 0.74348, 0.74348\n",
            "24             dInd(Distance index), 0.23379, 0.23379\n",
            "25           sInd(Similarity index), 0.83469, 0.83469\n",
            "df2:                                           Category         0  \\\n",
            "0                            N(Condition negative)       793   \n",
            "1                   NLR(Negative likelihood ratio)   0.23827   \n",
            "2   NLRI(Negative likelihood ratio interpretation)      Poor   \n",
            "3                   NPV(Negative predictive value)   0.95086   \n",
            "4                          OC(Overlap coefficient)   0.87417   \n",
            "5                   OOC(Otsuka-Ochiai coefficient)   0.81907   \n",
            "6                          OP(Optimized precision)   0.81922   \n",
            "7                 P(Condition positive or support)       172   \n",
            "8                   PLR(Positive likelihood ratio)   32.0306   \n",
            "9   PLRI(Positive likelihood ratio interpretation)      Good   \n",
            "10                                 POP(Population)       965   \n",
            "11     PPV(Precision or positive predictive value)   0.87417   \n",
            "12                                 PRE(Prevalence)   0.17824   \n",
            "13          Q(Yule Q - coefficient of colligation)   0.98523   \n",
            "14                       QI(Yule Q interpretation)    Strong   \n",
            "15                           RACC(Random accuracy)   0.02789   \n",
            "16                 RACCU(Random accuracy unbiased)   0.02801   \n",
            "17             TN(True negative/correct rejection)       774   \n",
            "18          TNR(Specificity or true negative rate)   0.97604   \n",
            "19                      TON(Test outcome negative)       814   \n",
            "20                      TOP(Test outcome positive)       151   \n",
            "21                           TP(True positive/hit)       132   \n",
            "22                                 TPR(Sensitivity    recall   \n",
            "23                                 Y(Youden index)   0.74348   \n",
            "24                            dInd(Distance index)   0.23379   \n",
            "25                          sInd(Similarity index)   0.83469   \n",
            "\n",
            "                                                    1  \n",
            "0                                                 172  \n",
            "1                                             0.03122  \n",
            "2                                                Good  \n",
            "3                                             0.87417  \n",
            "4                                             0.97604  \n",
            "5                                             0.96337  \n",
            "6                                             0.81922  \n",
            "7                                                 793  \n",
            "8                                             4.19697  \n",
            "9                                                Poor  \n",
            "10                                                965  \n",
            "11                                            0.95086  \n",
            "12                                            0.82176  \n",
            "13                                            0.98523  \n",
            "14                                             Strong  \n",
            "15                                            0.69318  \n",
            "16                                            0.69329  \n",
            "17                                                132  \n",
            "18                                            0.76744  \n",
            "19                                                151  \n",
            "20                                                814  \n",
            "21                                                774  \n",
            "22   hit rate, or true positive rate), 0.76744, 0....  \n",
            "23                                            0.74348  \n",
            "24                                            0.23379  \n",
            "25                                            0.83469  \n"
          ]
        },
        {
          "output_type": "stream",
          "name": "stderr",
          "text": [
            "<ipython-input-8-44ff60889d8d>:27: FutureWarning: In a future version of pandas all arguments of StringMethods.split except for the argument 'pat' will be keyword-only.\n",
            "  df2[['Category', 'B']] = df2['points'].str.split(',', 1, expand=True)\n",
            "<ipython-input-8-44ff60889d8d>:28: FutureWarning: In a future version of pandas all arguments of StringMethods.split except for the argument 'pat' will be keyword-only.\n",
            "  df2[['0', '1']] = df2['B'].str.split(',', 1, expand=True)\n"
          ]
        }
      ]
    },
    {
      "cell_type": "code",
      "source": [
        "# combine different pages dataframe into one\n",
        "final_df = pd.concat([df,df1,df2], ignore_index=True)\n",
        "print(\"final_df:\", final_df)\n",
        "final_df.to_csv(\"support vector machine algorithim results.csv\") # name of file to save"
      ],
      "metadata": {
        "colab": {
          "base_uri": "https://localhost:8080/"
        },
        "id": "GCtebthqnv30",
        "outputId": "633b8c86-889a-44aa-ab17-cc732bf7c966"
      },
      "execution_count": 9,
      "outputs": [
        {
          "output_type": "stream",
          "name": "stdout",
          "text": [
            "final_df:                    Category          0  \\\n",
            "0                    Actual       None   \n",
            "1                         0        132   \n",
            "2                         1         19   \n",
            "3      Overall Statistics :       None   \n",
            "4                    95% CI   (0.92374   \n",
            "..                      ...        ...   \n",
            "237   TP(True positive/hit)        132   \n",
            "238         TPR(Sensitivity     recall   \n",
            "239         Y(Youden index)    0.74348   \n",
            "240    dInd(Distance index)    0.23379   \n",
            "241  sInd(Similarity index)    0.83469   \n",
            "\n",
            "                                                     1  \n",
            "0                                                 None  \n",
            "1                                                   40  \n",
            "2                                                  774  \n",
            "3                                                 None  \n",
            "4                                             0.95398)  \n",
            "..                                                 ...  \n",
            "237                                                774  \n",
            "238   hit rate, or true positive rate), 0.76744, 0....  \n",
            "239                                            0.74348  \n",
            "240                                            0.23379  \n",
            "241                                            0.83469  \n",
            "\n",
            "[242 rows x 3 columns]\n"
          ]
        }
      ]
    },
    {
      "cell_type": "code",
      "source": [],
      "metadata": {
        "id": "-blqQLY3oAFp"
      },
      "execution_count": null,
      "outputs": []
    }
  ]
}